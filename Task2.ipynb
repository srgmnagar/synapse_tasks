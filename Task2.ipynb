{
  "metadata": {
    "colab": {
      "provenance": [],
      "name": "Task2.ipynb",
      "include_colab_link": true
    },
    "kernelspec": {
      "name": "python3",
      "display_name": "Python 3",
      "language": "python"
    },
    "language_info": {
      "name": "python",
      "version": "3.10.13",
      "mimetype": "text/x-python",
      "codemirror_mode": {
        "name": "ipython",
        "version": 3
      },
      "pygments_lexer": "ipython3",
      "nbconvert_exporter": "python",
      "file_extension": ".py"
    },
    "kaggle": {
      "accelerator": "none",
      "dataSources": [
        {
          "sourceId": 8916013,
          "sourceType": "datasetVersion",
          "datasetId": 5361919
        },
        {
          "sourceId": 9136911,
          "sourceType": "datasetVersion",
          "datasetId": 5517812
        }
      ],
      "dockerImageVersionId": 30732,
      "isInternetEnabled": false,
      "language": "python",
      "sourceType": "notebook",
      "isGpuEnabled": false
    }
  },
  "nbformat_minor": 0,
  "nbformat": 4,
  "cells": [
    {
      "cell_type": "markdown",
      "metadata": {
        "id": "view-in-github",
        "colab_type": "text"
      },
      "source": [
        "<a href=\"https://colab.research.google.com/github/srgmnagar/synapse_tasks/blob/main/Task2.ipynb\" target=\"_parent\"><img src=\"https://colab.research.google.com/assets/colab-badge.svg\" alt=\"Open In Colab\"/></a>"
      ]
    },
    {
      "source": [
        "\n",
        "# IMPORTANT: RUN THIS CELL IN ORDER TO IMPORT YOUR KAGGLE DATA SOURCES\n",
        "# TO THE CORRECT LOCATION (/kaggle/input) IN YOUR NOTEBOOK,\n",
        "# THEN FEEL FREE TO DELETE THIS CELL.\n",
        "# NOTE: THIS NOTEBOOK ENVIRONMENT DIFFERS FROM KAGGLE'S PYTHON\n",
        "# ENVIRONMENT SO THERE MAY BE MISSING LIBRARIES USED BY YOUR\n",
        "# NOTEBOOK.\n",
        "\n",
        "import os\n",
        "import sys\n",
        "from tempfile import NamedTemporaryFile\n",
        "from urllib.request import urlopen\n",
        "from urllib.parse import unquote, urlparse\n",
        "from urllib.error import HTTPError\n",
        "from zipfile import ZipFile\n",
        "import tarfile\n",
        "import shutil\n",
        "\n",
        "CHUNK_SIZE = 40960\n",
        "DATA_SOURCE_MAPPING = 'ge-2-24-results-csv:https%3A%2F%2Fstorage.googleapis.com%2Fkaggle-data-sets%2F5517812%2F9136911%2Fbundle%2Farchive.zip%3FX-Goog-Algorithm%3DGOOG4-RSA-SHA256%26X-Goog-Credential%3Dgcp-kaggle-com%2540kaggle-161607.iam.gserviceaccount.com%252F20240809%252Fauto%252Fstorage%252Fgoog4_request%26X-Goog-Date%3D20240809T032702Z%26X-Goog-Expires%3D259200%26X-Goog-SignedHeaders%3Dhost%26X-Goog-Signature%3D261e398be25389a62d490fe41975e47ddc3f3e4d8055739a727684c93ad13064d2a26ce6c9179fc51aa30de6e455fdd6cadcf825837fd2945c74113ebfeab570b74729d16598bc0a998f2465d926d17031a94ff75067a81a18348392658b37c7427ed401996b02d01c4209898088f902be10b3149f111b79e4e86db9c3c174aae05f7a3558bf405664a60402469a3aa5b51c5e1685b70e5be1968d90225df4c6b9d104b1ae03c343b3c3593a6acb44de8321555365152982fa45f93d09967c70fb65f232eaaf756aa718f5a064af961488b7d1d13d23c72a2278ed1a62d9da17051c3acd678928fb3f98cd5c611859b0bf3cf9dc91e4a6a7d13810c8ba4196d8'\n",
        "\n",
        "KAGGLE_INPUT_PATH='/kaggle/input'\n",
        "KAGGLE_WORKING_PATH='/kaggle/working'\n",
        "KAGGLE_SYMLINK='kaggle'\n",
        "\n",
        "!umount /kaggle/input/ 2> /dev/null\n",
        "shutil.rmtree('/kaggle/input', ignore_errors=True)\n",
        "os.makedirs(KAGGLE_INPUT_PATH, 0o777, exist_ok=True)\n",
        "os.makedirs(KAGGLE_WORKING_PATH, 0o777, exist_ok=True)\n",
        "\n",
        "try:\n",
        "  os.symlink(KAGGLE_INPUT_PATH, os.path.join(\"..\", 'input'), target_is_directory=True)\n",
        "except FileExistsError:\n",
        "  pass\n",
        "try:\n",
        "  os.symlink(KAGGLE_WORKING_PATH, os.path.join(\"..\", 'working'), target_is_directory=True)\n",
        "except FileExistsError:\n",
        "  pass\n",
        "\n",
        "for data_source_mapping in DATA_SOURCE_MAPPING.split(','):\n",
        "    directory, download_url_encoded = data_source_mapping.split(':')\n",
        "    download_url = unquote(download_url_encoded)\n",
        "    filename = urlparse(download_url).path\n",
        "    destination_path = os.path.join(KAGGLE_INPUT_PATH, directory)\n",
        "    try:\n",
        "        with urlopen(download_url) as fileres, NamedTemporaryFile() as tfile:\n",
        "            total_length = fileres.headers['content-length']\n",
        "            print(f'Downloading {directory}, {total_length} bytes compressed')\n",
        "            dl = 0\n",
        "            data = fileres.read(CHUNK_SIZE)\n",
        "            while len(data) > 0:\n",
        "                dl += len(data)\n",
        "                tfile.write(data)\n",
        "                done = int(50 * dl / int(total_length))\n",
        "                sys.stdout.write(f\"\\r[{'=' * done}{' ' * (50-done)}] {dl} bytes downloaded\")\n",
        "                sys.stdout.flush()\n",
        "                data = fileres.read(CHUNK_SIZE)\n",
        "            if filename.endswith('.zip'):\n",
        "              with ZipFile(tfile) as zfile:\n",
        "                zfile.extractall(destination_path)\n",
        "            else:\n",
        "              with tarfile.open(tfile.name) as tarfile:\n",
        "                tarfile.extractall(destination_path)\n",
        "            print(f'\\nDownloaded and uncompressed: {directory}')\n",
        "    except HTTPError as e:\n",
        "        print(f'Failed to load (likely expired) {download_url} to path {destination_path}')\n",
        "        continue\n",
        "    except OSError as e:\n",
        "        print(f'Failed to load {download_url} to path {destination_path}')\n",
        "        continue\n",
        "\n",
        "print('Data source import complete.')\n"
      ],
      "metadata": {
        "id": "Mn5vsQcqLSxt"
      },
      "cell_type": "code",
      "outputs": [],
      "execution_count": null
    },
    {
      "cell_type": "markdown",
      "source": [
        "# Synapse Task 2"
      ],
      "metadata": {
        "id": "LrGflc1MH6X3"
      }
    },
    {
      "cell_type": "markdown",
      "source": [
        "![WhatsApp Image 2024-07-08 at 19.53.42_bc08ba20 (1).jpg](data:image/jpeg;base64,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)"
      ],
      "metadata": {
        "id": "VoIMkhH_4WwK"
      }
    },
    {
      "cell_type": "markdown",
      "source": [
        "### Run the following cell to import the required libraries."
      ],
      "metadata": {
        "id": "GVwGBoAfRFjq"
      }
    },
    {
      "cell_type": "code",
      "source": [
        "import pandas as pd\n",
        "import matplotlib.pyplot as plt\n",
        "import numpy as np"
      ],
      "metadata": {
        "id": "DCUZiPlnRNOI",
        "execution": {
          "iopub.status.busy": "2024-08-09T02:47:48.28002Z",
          "iopub.execute_input": "2024-08-09T02:47:48.281007Z",
          "iopub.status.idle": "2024-08-09T02:47:48.808032Z",
          "shell.execute_reply.started": "2024-08-09T02:47:48.280962Z",
          "shell.execute_reply": "2024-08-09T02:47:48.806427Z"
        },
        "trusted": true
      },
      "execution_count": null,
      "outputs": []
    },
    {
      "cell_type": "markdown",
      "source": [
        "Welcome to the second task on your road to being a part of the Synapse fam. This task will be focusing on the first step of beginning any ML or Data Science project which Data Preprocessing. One may ask why do we need to clean data? Imagine you are trying to make some food,you need to clean the vegetables, cut them, dice them, season them right? Any end product needs preprocessing and that is what we will be exploring in this task.\n",
        "\n",
        "Now, use this link to download the dataset and upload it to your kaggle notebook on the input window on the right side.\n",
        "https://drive.google.com/file/d/1d4Yq5AlqFkkNAsOeI2HO9jQ41EOp4qmJ/view?usp=sharing\n",
        "\n",
        "Save it under the same name as the file name if the name doesn't match one in the code given below, change the path as '/kaggle/input/folder_name/file_name.csv'\n",
        "\n",
        "We will be using this dataset to carry out basic pandas and matplotlib commands.\n"
      ],
      "metadata": {
        "id": "76HIGGhFIBZ_"
      }
    },
    {
      "cell_type": "markdown",
      "source": [
        "use this image as reference\n",
        "\n",
        "![image_2024-07-09_221803305.png](data:image/png;base64,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)"
      ],
      "metadata": {
        "id": "-WGGUzoRZAzF"
      }
    },
    {
      "cell_type": "markdown",
      "source": [
        "### To make your dataframe run this cell"
      ],
      "metadata": {
        "id": "OplxrfK6iW2f"
      }
    },
    {
      "cell_type": "code",
      "source": [
        "df = pd.read_csv('/kaggle/input/ge-2-24-results-csv/GE_2024_Results .csv')\n",
        "df"
      ],
      "metadata": {
        "id": "3VprV2HmHURt",
        "execution": {
          "iopub.status.busy": "2024-08-09T02:47:54.591536Z",
          "iopub.execute_input": "2024-08-09T02:47:54.592194Z",
          "iopub.status.idle": "2024-08-09T02:47:54.68808Z",
          "shell.execute_reply.started": "2024-08-09T02:47:54.592157Z",
          "shell.execute_reply": "2024-08-09T02:47:54.686643Z"
        },
        "trusted": true
      },
      "execution_count": null,
      "outputs": []
    },
    {
      "cell_type": "markdown",
      "source": [
        "This is a tabular dataset consisting of the results of Indian General Elections 2024. As you can see when you print the dataframe you can see its size at the bottom."
      ],
      "metadata": {
        "id": "VtLKy5X_i1l6"
      }
    },
    {
      "cell_type": "markdown",
      "source": [
        "There is another way to find out the dimensions of a dataframe. Enter the code to find that out in the following cell."
      ],
      "metadata": {
        "id": "zyWgyLjUjUeY"
      }
    },
    {
      "cell_type": "code",
      "source": [
        "df.shape"
      ],
      "metadata": {
        "id": "Ks-xfefri0HD",
        "execution": {
          "iopub.status.busy": "2024-08-09T02:48:00.592345Z",
          "iopub.execute_input": "2024-08-09T02:48:00.593742Z",
          "iopub.status.idle": "2024-08-09T02:48:00.602752Z",
          "shell.execute_reply.started": "2024-08-09T02:48:00.593695Z",
          "shell.execute_reply": "2024-08-09T02:48:00.601112Z"
        },
        "trusted": true
      },
      "execution_count": null,
      "outputs": []
    },
    {
      "cell_type": "markdown",
      "source": [
        "Write the code to display the first 20 rows of the dataframe."
      ],
      "metadata": {
        "id": "fxt8mllUj72x"
      }
    },
    {
      "cell_type": "code",
      "source": [
        "df.iloc[1:21]"
      ],
      "metadata": {
        "id": "eh2Bfm7Bj7WG",
        "execution": {
          "iopub.status.busy": "2024-08-09T02:48:04.977681Z",
          "iopub.execute_input": "2024-08-09T02:48:04.978167Z",
          "iopub.status.idle": "2024-08-09T02:48:05.00421Z",
          "shell.execute_reply.started": "2024-08-09T02:48:04.978134Z",
          "shell.execute_reply": "2024-08-09T02:48:05.003033Z"
        },
        "trusted": true
      },
      "execution_count": null,
      "outputs": []
    },
    {
      "cell_type": "markdown",
      "source": [
        "You can see that we already have one column for indices and we dont need an extra to create consfusion. Write a code to remove the ID column."
      ],
      "metadata": {
        "id": "2DKgZCFQuu3Y"
      }
    },
    {
      "cell_type": "code",
      "source": [
        "df=df.drop(\"ID\",axis=1)"
      ],
      "metadata": {
        "id": "8F-ZhueKuuX4",
        "execution": {
          "iopub.status.busy": "2024-08-09T02:48:40.286151Z",
          "iopub.execute_input": "2024-08-09T02:48:40.286622Z",
          "iopub.status.idle": "2024-08-09T02:48:40.295949Z",
          "shell.execute_reply.started": "2024-08-09T02:48:40.28659Z",
          "shell.execute_reply": "2024-08-09T02:48:40.294431Z"
        },
        "trusted": true
      },
      "execution_count": null,
      "outputs": []
    },
    {
      "cell_type": "markdown",
      "source": [
        "You can see some NaN values in the dataframe, these are something that will cause errors later and we don't want that. Write a code to remove these values from our dataframe. Additionally you'll see that the index values are not in order. Take care of that as well :)"
      ],
      "metadata": {
        "id": "MJoLilkKuO8H"
      }
    },
    {
      "cell_type": "code",
      "source": [
        "df.dropna(inplace=True)\n",
        "df\n",
        "df.shape"
      ],
      "metadata": {
        "id": "NTz5uUgUuOa9",
        "execution": {
          "iopub.status.busy": "2024-08-09T02:48:45.091168Z",
          "iopub.execute_input": "2024-08-09T02:48:45.091632Z",
          "iopub.status.idle": "2024-08-09T02:48:45.112168Z",
          "shell.execute_reply.started": "2024-08-09T02:48:45.091597Z",
          "shell.execute_reply": "2024-08-09T02:48:45.110301Z"
        },
        "trusted": true
      },
      "execution_count": null,
      "outputs": []
    },
    {
      "cell_type": "markdown",
      "source": [
        "If all is correct your dataframe should have 8902 rows and 9 columns."
      ],
      "metadata": {
        "id": "YdzPFWDAuo3-"
      }
    },
    {
      "cell_type": "markdown",
      "source": [
        "### The previous commands were just to make sure we have a workable dataframe now, we'll do some manipulations on the data."
      ],
      "metadata": {
        "id": "ObumlN7vvgBL"
      }
    },
    {
      "cell_type": "markdown",
      "source": [
        "Find out the top 5 most voted candidates in Telangana"
      ],
      "metadata": {
        "id": "5AVko-sPv9-O"
      }
    },
    {
      "cell_type": "markdown",
      "source": [
        "df[\"\"]"
      ],
      "metadata": {
        "id": "ugyBI6HTv6cY"
      }
    },
    {
      "cell_type": "code",
      "source": [
        "df[df['State'] == 'Telangana'].sort_values(by='Total Votes', ascending=False).head(5)[['Candidate', 'Total Votes']]"
      ],
      "metadata": {
        "execution": {
          "iopub.status.busy": "2024-08-09T02:48:57.506318Z",
          "iopub.execute_input": "2024-08-09T02:48:57.506794Z",
          "iopub.status.idle": "2024-08-09T02:48:57.528959Z",
          "shell.execute_reply.started": "2024-08-09T02:48:57.506758Z",
          "shell.execute_reply": "2024-08-09T02:48:57.527673Z"
        },
        "trusted": true,
        "id": "l0jx9mcgLSxy"
      },
      "execution_count": null,
      "outputs": []
    },
    {
      "cell_type": "markdown",
      "source": [
        "Find out the total number of votes received by each state"
      ],
      "metadata": {
        "id": "TN4D3ayIwGVn"
      }
    },
    {
      "cell_type": "code",
      "source": [
        "df.groupby('State')['Total Votes'].sum().sort_values(ascending=False)"
      ],
      "metadata": {
        "id": "ihWjZow9wbpe",
        "execution": {
          "iopub.status.busy": "2024-08-09T02:49:00.666281Z",
          "iopub.execute_input": "2024-08-09T02:49:00.66676Z",
          "iopub.status.idle": "2024-08-09T02:49:00.693257Z",
          "shell.execute_reply.started": "2024-08-09T02:49:00.666724Z",
          "shell.execute_reply": "2024-08-09T02:49:00.691707Z"
        },
        "trusted": true
      },
      "execution_count": null,
      "outputs": []
    },
    {
      "cell_type": "markdown",
      "source": [
        "Show these values as a percentage of the total number of votes received in the election."
      ],
      "metadata": {
        "id": "Zhd_BogswcdD"
      }
    },
    {
      "cell_type": "code",
      "source": [
        "((df.groupby('State')['Total Votes'].sum()/df['Total Votes'].sum())*100).sort_values(ascending=False)"
      ],
      "metadata": {
        "id": "8kXiqmubwlgS",
        "execution": {
          "iopub.status.busy": "2024-08-09T02:49:04.070469Z",
          "iopub.execute_input": "2024-08-09T02:49:04.070967Z",
          "iopub.status.idle": "2024-08-09T02:49:04.085467Z",
          "shell.execute_reply.started": "2024-08-09T02:49:04.070932Z",
          "shell.execute_reply": "2024-08-09T02:49:04.084229Z"
        },
        "trusted": true
      },
      "execution_count": null,
      "outputs": []
    },
    {
      "cell_type": "markdown",
      "source": [
        "Now, display the top 5 parties and find out the number of votes received by them"
      ],
      "metadata": {
        "id": "mHW491LTwv-7"
      }
    },
    {
      "cell_type": "code",
      "source": [
        "df.groupby('Party')['Total Votes'].sum().sort_values(ascending=False).head(5)"
      ],
      "metadata": {
        "id": "HWoiaXMOwu7C",
        "execution": {
          "iopub.status.busy": "2024-08-09T02:49:07.600547Z",
          "iopub.execute_input": "2024-08-09T02:49:07.601002Z",
          "iopub.status.idle": "2024-08-09T02:49:07.616261Z",
          "shell.execute_reply.started": "2024-08-09T02:49:07.600968Z",
          "shell.execute_reply": "2024-08-09T02:49:07.614675Z"
        },
        "trusted": true
      },
      "execution_count": null,
      "outputs": []
    },
    {
      "cell_type": "code",
      "source": [
        "df"
      ],
      "metadata": {
        "execution": {
          "iopub.status.busy": "2024-08-09T01:05:44.726862Z",
          "iopub.execute_input": "2024-08-09T01:05:44.727276Z",
          "iopub.status.idle": "2024-08-09T01:05:44.746405Z",
          "shell.execute_reply.started": "2024-08-09T01:05:44.727245Z",
          "shell.execute_reply": "2024-08-09T01:05:44.745375Z"
        },
        "trusted": true,
        "id": "qtOOol3RLSxz"
      },
      "execution_count": null,
      "outputs": []
    },
    {
      "cell_type": "markdown",
      "source": [
        "From the candidates who lost, list 10 candidates who got the highest percent votes."
      ],
      "metadata": {
        "id": "Oojy9ca7xBES"
      }
    },
    {
      "cell_type": "code",
      "source": [
        "df[df['Result'] == 'Lost'].sort_values(by=['% of Votes'],ascending=False).head(10)"
      ],
      "metadata": {
        "id": "Z7PueyadxAts",
        "execution": {
          "iopub.status.busy": "2024-08-09T02:49:10.420567Z",
          "iopub.execute_input": "2024-08-09T02:49:10.420992Z",
          "iopub.status.idle": "2024-08-09T02:49:10.458874Z",
          "shell.execute_reply.started": "2024-08-09T02:49:10.420962Z",
          "shell.execute_reply": "2024-08-09T02:49:10.457382Z"
        },
        "trusted": true
      },
      "execution_count": null,
      "outputs": []
    },
    {
      "cell_type": "markdown",
      "source": [
        "### These techniques help to understand the data that we have but we like something a bit more visual right? That's where matplotlib comes to our aid."
      ],
      "metadata": {
        "id": "HIcaZGbm2eom"
      }
    },
    {
      "cell_type": "markdown",
      "source": [
        "Make a piechart to show the votes recieved by the top 5 candidates in the elections."
      ],
      "metadata": {
        "id": "ISWH6vRD3AKy"
      }
    },
    {
      "cell_type": "code",
      "source": [
        "\n",
        "plt.figure(figsize = (5,5))\n",
        "df.groupby('Candidate')['Total Votes'].sum().sort_values(ascending=False).head(5).plot(kind = 'pie',color='red')\n",
        "plt.title(\"votes recieved by the top 5 candidates \")\n",
        "plt.show()"
      ],
      "metadata": {
        "id": "ewX6Vq6h3Krq",
        "execution": {
          "iopub.status.busy": "2024-08-09T02:54:55.581534Z",
          "iopub.execute_input": "2024-08-09T02:54:55.582017Z",
          "iopub.status.idle": "2024-08-09T02:54:55.800879Z",
          "shell.execute_reply.started": "2024-08-09T02:54:55.581983Z",
          "shell.execute_reply": "2024-08-09T02:54:55.79922Z"
        },
        "trusted": true
      },
      "execution_count": null,
      "outputs": []
    },
    {
      "cell_type": "markdown",
      "source": [
        "Make a bar graph to see the postal votes received by the parties in Karnataka"
      ],
      "metadata": {
        "id": "7hK04nRo3Rp4"
      }
    },
    {
      "cell_type": "code",
      "source": [
        "#plt.figure(figsize = (5,5))\n",
        "#df.loc[df[\"State\" == \"Karnataka\"].groupby(\"Party\")[\"Postal Votes\"].sum().sort_values(ascending = False).plot(kind = 'bar')\n",
        "#plt.title(\"the postal votes received by the parties in Karnataka \")\n",
        "#plt.show()"
      ],
      "metadata": {
        "id": "Dop5buA83RLC",
        "execution": {
          "iopub.status.busy": "2024-08-09T03:23:14.11599Z",
          "iopub.execute_input": "2024-08-09T03:23:14.116424Z",
          "iopub.status.idle": "2024-08-09T03:23:14.122505Z",
          "shell.execute_reply.started": "2024-08-09T03:23:14.116395Z",
          "shell.execute_reply": "2024-08-09T03:23:14.120886Z"
        },
        "trusted": true
      },
      "execution_count": null,
      "outputs": []
    },
    {
      "cell_type": "markdown",
      "source": [
        "### Congratulations on making it to the end. EDA is a very vital toolkit to tackle Machine Learning problems. Hopefully this task helped you understand concepts of data analysis and visualisation. See you at the interviews :)"
      ],
      "metadata": {
        "id": "pYFx3Jry3-jI"
      }
    },
    {
      "cell_type": "markdown",
      "source": [
        "For any doubts contact:\n",
        "\n",
        "Taran Shah: +91 9619223242\n",
        "\n",
        "Divyam Jain: +91 96193 77044"
      ],
      "metadata": {
        "id": "LtG191nvTPiJ"
      }
    }
  ]
}